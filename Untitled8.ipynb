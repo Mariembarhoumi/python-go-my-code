{
 "cells": [
  {
   "cell_type": "markdown",
   "id": "fa11b790",
   "metadata": {},
   "source": [
    "QUESTION 1"
   ]
  },
  {
   "cell_type": "code",
   "execution_count": 4,
   "id": "d1ead797",
   "metadata": {},
   "outputs": [
    {
     "data": {
      "text/plain": [
       "['AAAAAAA\\n',\n",
       " 'BBBBBBB\\n',\n",
       " 'CCCCCCC\\n',\n",
       " 'DDDDDDD\\n',\n",
       " 'EEEEEEE\\n',\n",
       " 'GGGGGGG\\n',\n",
       " 'HHHHHHH']"
      ]
     },
     "execution_count": 4,
     "metadata": {},
     "output_type": "execute_result"
    }
   ],
   "source": [
    "f = open(\"test.txt\",'r')\n",
    "f.readlines()"
   ]
  },
  {
   "cell_type": "markdown",
   "id": "24b43a56",
   "metadata": {},
   "source": [
    "QUESTION 2"
   ]
  },
  {
   "cell_type": "code",
   "execution_count": 5,
   "id": "2d7dbf19",
   "metadata": {},
   "outputs": [
    {
     "name": "stdout",
     "output_type": "stream",
     "text": [
      "choisir un nombre ,x=2\n",
      "AAAAAAA\n",
      "\n",
      "BBBBBBB\n",
      "\n"
     ]
    }
   ],
   "source": [
    "x=int(input(\"choisir un nombre ,x=\"))\n",
    "f = open(\"test.txt\",'r')\n",
    "lines_number=x\n",
    "for i in range (lines_number):\n",
    "    l=f.readline()\n",
    "    print(l)"
   ]
  },
  {
   "cell_type": "markdown",
   "id": "f2544997",
   "metadata": {},
   "source": [
    "QUESTION 3"
   ]
  },
  {
   "cell_type": "code",
   "execution_count": 6,
   "id": "6f96a55a",
   "metadata": {},
   "outputs": [
    {
     "name": "stdout",
     "output_type": "stream",
     "text": [
      "choisir un nombre ,x=2\n",
      "['GGGGGGG\\n', 'HHHHHHH']\n"
     ]
    }
   ],
   "source": [
    "x=int(input(\"choisir un nombre ,x=\"))\n",
    "a= open(\"test.txt\",'r')\n",
    "lines=a.readlines()\n",
    "last_lines=lines[-x:]\n",
    "print(last_lines)"
   ]
  },
  {
   "cell_type": "markdown",
   "id": "54e4007f",
   "metadata": {},
   "source": [
    "QUESTION 4"
   ]
  },
  {
   "cell_type": "code",
   "execution_count": null,
   "id": "b285e861",
   "metadata": {},
   "outputs": [],
   "source": [
    "t=input(\"ecrivez votre texte:\")\n",
    "with open(\"new_text.txt\",'w',encoding = 'utf-8') as f:\n",
    "     f.write(t)\n",
    "    \n",
    "    \n",
    "f = open(\"new_text.txt\")\n",
    "d=f.read()\n",
    "words=d.split()\n",
    "print(\"the number of words of a given text file is:\",len(words))"
   ]
  },
  {
   "cell_type": "code",
   "execution_count": null,
   "id": "a5400389",
   "metadata": {},
   "outputs": [],
   "source": []
  }
 ],
 "metadata": {
  "kernelspec": {
   "display_name": "Python 3",
   "language": "python",
   "name": "python3"
  },
  "language_info": {
   "codemirror_mode": {
    "name": "ipython",
    "version": 3
   },
   "file_extension": ".py",
   "mimetype": "text/x-python",
   "name": "python",
   "nbconvert_exporter": "python",
   "pygments_lexer": "ipython3",
   "version": "3.8.8"
  }
 },
 "nbformat": 4,
 "nbformat_minor": 5
}
