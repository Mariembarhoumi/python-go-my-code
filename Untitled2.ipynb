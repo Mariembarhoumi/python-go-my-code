{
 "cells": [
  {
   "cell_type": "markdown",
   "id": "706bf1ac",
   "metadata": {},
   "source": [
    "QUESTION 1"
   ]
  },
  {
   "cell_type": "code",
   "execution_count": null,
   "id": "a42a881d",
   "metadata": {},
   "outputs": [],
   "source": [
    "p=int(input(\"entrer un nombre\"))\n",
    "u=int(input(\"entrer un nombre\"))\n",
    "v=int(input(\"entrer un nombre\"))\n",
    "def maximum(a,b,c):\n",
    "    if b<a and c<a:\n",
    "        return(a)\n",
    "       \n",
    "    elif a<b and c<b:\n",
    "        return(b)\n",
    "    else:\n",
    "        return(c)\n",
    "max= maximum(p,u,v)\n",
    "print(max)"
   ]
  },
  {
   "cell_type": "markdown",
   "id": "b544b9b4",
   "metadata": {},
   "source": [
    "QUESTION 2"
   ]
  },
  {
   "cell_type": "code",
   "execution_count": 11,
   "id": "a6f3cbec",
   "metadata": {},
   "outputs": [
    {
     "name": "stdout",
     "output_type": "stream",
     "text": [
      "entrer un nombre40\n",
      "entrer un nombre10\n",
      "(50, 30)\n"
     ]
    }
   ],
   "source": [
    "a=int(input(\"entrer un nombre\"))\n",
    "b=int(input(\"entrer un nombre\"))\n",
    "def calculation(a,b):\n",
    "    x=a+b\n",
    "    y=a-b\n",
    "    return (x,y)\n",
    "result= calculation(a,b)\n",
    "print(result)\n",
    "\n"
   ]
  },
  {
   "cell_type": "markdown",
   "id": "a469ebf6",
   "metadata": {},
   "source": [
    "QUESTION 3"
   ]
  },
  {
   "cell_type": "code",
   "execution_count": 21,
   "id": "04347a07",
   "metadata": {},
   "outputs": [
    {
     "name": "stdout",
     "output_type": "stream",
     "text": [
      "donner le nombre d'elements de la liste 4\n",
      "donner nombre2\n",
      "donner nombre3\n",
      "donner nombre4\n",
      "donner nombre5\n",
      "the sum of the even numbers is 6\n",
      "the sum of the odd numbers is 15\n"
     ]
    }
   ],
   "source": [
    "l=[]\n",
    "n=int(input(\"donner le nombre d'elements de la liste \"))\n",
    "for i in range (0,n):\n",
    "    a=int(input(\"donner nombre\"))\n",
    "    l.append(a)\n",
    "def somme(l):\n",
    "    s=0\n",
    "    for i in l:\n",
    "        s=s+i\n",
    "    return s\n",
    "def produit(l):\n",
    "    p=1\n",
    "    for i in l:\n",
    "        p=p*i\n",
    "    return p\n",
    "l1=[]\n",
    "l2=[]\n",
    "for i in range (0,len(l),2):\n",
    "    l1.append(l[i])\n",
    "    x=somme(l1)\n",
    "print(\"the sum of the even numbers is\",x)\n",
    "for i in range(1,len(l),2):\n",
    "    l2.append(l[i])\n",
    "    y=produit(l2)\n",
    "print(\"the sum of the odd numbers is\",y)"
   ]
  },
  {
   "cell_type": "markdown",
   "id": "d9e3b98f",
   "metadata": {},
   "source": [
    "QUESTION 4"
   ]
  },
  {
   "cell_type": "code",
   "execution_count": 6,
   "id": "8d616758",
   "metadata": {},
   "outputs": [
    {
     "name": "stdout",
     "output_type": "stream",
     "text": [
      "give a hyphen-separated sequence of wordsgreen-red-yellow-black-white\n",
      "['green', 'red', 'yellow', 'black', 'white']\n",
      "['black', 'green', 'red', 'white', 'yellow']\n",
      "black-green-red-white-yellow\n"
     ]
    }
   ],
   "source": [
    "x=input(\"give a hyphen-separated sequence of words\")\n",
    "x1=x.split('-')\n",
    "print(x1)\n",
    "x1.sort()\n",
    "print(x1)\n",
    "print('-'.join(x1))\n",
    "\n",
    "\n"
   ]
  },
  {
   "cell_type": "markdown",
   "id": "d66b053e",
   "metadata": {},
   "source": [
    "QUESTION 5 (bonus)"
   ]
  },
  {
   "cell_type": "code",
   "execution_count": 30,
   "id": "1659244c",
   "metadata": {},
   "outputs": [
    {
     "name": "stdout",
     "output_type": "stream",
     "text": [
      "enter three numbers in a comma-separated sequence 100,150,180\n",
      "18\n",
      "22\n",
      "24\n"
     ]
    }
   ],
   "source": [
    "from math import sqrt\n",
    "D=input(\"enter three numbers in a comma-separated sequence \")\n",
    "D=D.split(',')\n",
    "for i in range (len(D)):\n",
    "    Q=round(sqrt((100*int(D[i]))/30))\n",
    "    print(Q)\n",
    "        \n",
    "\n"
   ]
  },
  {
   "cell_type": "code",
   "execution_count": null,
   "id": "3b67d1b5",
   "metadata": {},
   "outputs": [],
   "source": []
  },
  {
   "cell_type": "code",
   "execution_count": null,
   "id": "73284105",
   "metadata": {},
   "outputs": [],
   "source": []
  },
  {
   "cell_type": "code",
   "execution_count": null,
   "id": "5ded28bd",
   "metadata": {},
   "outputs": [],
   "source": []
  },
  {
   "cell_type": "code",
   "execution_count": null,
   "id": "fb9a6056",
   "metadata": {},
   "outputs": [],
   "source": []
  }
 ],
 "metadata": {
  "kernelspec": {
   "display_name": "Python 3",
   "language": "python",
   "name": "python3"
  },
  "language_info": {
   "codemirror_mode": {
    "name": "ipython",
    "version": 3
   },
   "file_extension": ".py",
   "mimetype": "text/x-python",
   "name": "python",
   "nbconvert_exporter": "python",
   "pygments_lexer": "ipython3",
   "version": "3.8.8"
  }
 },
 "nbformat": 4,
 "nbformat_minor": 5
}
