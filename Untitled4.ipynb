{
 "cells": [
  {
   "cell_type": "markdown",
   "id": "801a55a2",
   "metadata": {},
   "source": [
    "QUESTION 1"
   ]
  },
  {
   "cell_type": "code",
   "execution_count": null,
   "id": "729abea9",
   "metadata": {},
   "outputs": [],
   "source": [
    "import numpy as np\n",
    "a=int(input(\"choisir le nombre de ligne \"))\n",
    "b=int(input(\"choisir le nombre de colone\"))\n",
    "u=int(input(\"choisir le nombre (debut de lintervalle)\"))\n",
    "w=int(input(\"choisir un nombre(fin de lintervalle)\"))\n",
    "x=np.random.randint(u,w, size=(a,b))\n",
    "print(x)\n",
    "y=x.tolist()\n",
    "print(y)"
   ]
  },
  {
   "cell_type": "markdown",
   "id": "6354a5ac",
   "metadata": {},
   "source": [
    "QUESTION 2"
   ]
  },
  {
   "cell_type": "code",
   "execution_count": null,
   "id": "c137d4c1",
   "metadata": {},
   "outputs": [],
   "source": [
    "import numpy as np\n",
    "a=int(input(\"choisir le nombre de colone et ligne \"))\n",
    "u=int(input(\"choisir le nombre des valeurs dans le matrice\"))\n",
    "x=np.arange(u).reshape(a,a)\n",
    "print(x)\n",
    "result = np.trace(x)\n",
    "print(result)\n"
   ]
  },
  {
   "cell_type": "markdown",
   "id": "452e538e",
   "metadata": {},
   "source": [
    "QUESTION 3"
   ]
  },
  {
   "cell_type": "code",
   "execution_count": 3,
   "id": "0e5e8a30",
   "metadata": {},
   "outputs": [
    {
     "name": "stdout",
     "output_type": "stream",
     "text": [
      "choisir un nombre2\n",
      "3\n",
      "5\n"
     ]
    }
   ],
   "source": [
    "import numpy as np\n",
    "a = np.array([[1,2],[3,5]])\n",
    "x=int(input(\"choisir un nombre\"))\n",
    "for i in a:\n",
    "    for j in i:\n",
    "        if j>x:\n",
    "            print(j)\n",
    "\n",
    "    \n"
   ]
  },
  {
   "cell_type": "markdown",
   "id": "0f4b7601",
   "metadata": {},
   "source": [
    "QUESTION 4"
   ]
  },
  {
   "cell_type": "code",
   "execution_count": 7,
   "id": "cc52620f",
   "metadata": {},
   "outputs": [
    {
     "name": "stdout",
     "output_type": "stream",
     "text": [
      "choisir le nombre de ligne2\n",
      "choisir le nombre de colone1\n",
      "choisir un nombre (debut delintervalle)2\n",
      "choisir un nombre (fin de lintervalle)3\n",
      "choisir un nombre (debut de lintervalle)1\n",
      "choisir un nombre (fin de lintervalle)2\n",
      "[[2]\n",
      " [2]]\n",
      "[[1]\n",
      " [1]]\n",
      "[[3]\n",
      " [3]]\n"
     ]
    }
   ],
   "source": [
    "import numpy as np\n",
    "x=int(input(\"choisir le nombre de ligne\"))\n",
    "y=int(input(\"choisir le nombre de colone\"))\n",
    "u=int(input(\"choisir un nombre (debut delintervalle)\"))\n",
    "w=int(input(\"choisir un nombre (fin de lintervalle)\"))\n",
    "c=int(input(\"choisir un nombre (debut de lintervalle)\"))\n",
    "d=int(input(\"choisir un nombre (fin de lintervalle)\"))\n",
    "A=np.random.randint(u,w, size=(x,y))\n",
    "print(A)\n",
    "B=np.random.randint(c,d, size=(x,y))\n",
    "print(B)\n",
    "C=A+B\n",
    "print(C)\n"
   ]
  },
  {
   "cell_type": "markdown",
   "id": "86210da1",
   "metadata": {},
   "source": [
    "QUESTION 5"
   ]
  },
  {
   "cell_type": "code",
   "execution_count": 8,
   "id": "0d477767",
   "metadata": {},
   "outputs": [
    {
     "name": "stdout",
     "output_type": "stream",
     "text": [
      "choisir le nombre de ligne 2\n",
      "choisir le nombre de colone2\n",
      "choisir le nombre (debut de lintervalle)1\n",
      "choisir un nombre(fin de lintervalle)3\n",
      "[2 2]\n",
      "2.0\n",
      "Y= 0.0\n",
      "Y= 0.0\n",
      "[2 1]\n",
      "1.5\n",
      "Y= 0.5\n",
      "Y= -0.5\n"
     ]
    }
   ],
   "source": [
    "import numpy as np\n",
    "a=int(input(\"choisir le nombre de ligne \"))\n",
    "b=int(input(\"choisir le nombre de colone\"))\n",
    "u=int(input(\"choisir le nombre (debut de lintervalle)\"))\n",
    "w=int(input(\"choisir un nombre(fin de lintervalle)\"))\n",
    "x=np.random.randint(u,w, size=(a,b))\n",
    "for i in x:\n",
    "    print(i)\n",
    "    y=i.mean()\n",
    "    print(y)\n",
    "    for j in i:\n",
    "        Y=j-y\n",
    "        print(\"Y=\",Y)\n"
   ]
  },
  {
   "cell_type": "code",
   "execution_count": null,
   "id": "8561a1a8",
   "metadata": {},
   "outputs": [],
   "source": []
  }
 ],
 "metadata": {
  "kernelspec": {
   "display_name": "Python 3",
   "language": "python",
   "name": "python3"
  },
  "language_info": {
   "codemirror_mode": {
    "name": "ipython",
    "version": 3
   },
   "file_extension": ".py",
   "mimetype": "text/x-python",
   "name": "python",
   "nbconvert_exporter": "python",
   "pygments_lexer": "ipython3",
   "version": "3.8.8"
  }
 },
 "nbformat": 4,
 "nbformat_minor": 5
}
