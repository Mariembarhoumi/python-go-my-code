{
 "cells": [
  {
   "cell_type": "markdown",
   "id": "fd2be6ca",
   "metadata": {},
   "source": [
    " 1"
   ]
  },
  {
   "cell_type": "code",
   "execution_count": null,
   "id": "2c17ed07",
   "metadata": {},
   "outputs": [],
   "source": [
    "class Point3D:\n",
    "    def __init__(self,x,y,z):\n",
    "        self.x = x\n",
    "        self.y = y\n",
    "        self.z=z\n",
    "    def mtd(self):\n",
    "        return \"x={},y={},z={}\".format(self.x,self.y,self.z)\n",
    "my_point= Point3D(1,2,3)\n",
    "x=my_point.mtd()\n",
    "print(x)\n",
    "        \n",
    "    \n",
    "    \n",
    "    "
   ]
  },
  {
   "cell_type": "markdown",
   "id": "faf7679a",
   "metadata": {},
   "source": [
    "2"
   ]
  },
  {
   "cell_type": "code",
   "execution_count": null,
   "id": "b4c45da2",
   "metadata": {},
   "outputs": [],
   "source": [
    "class Rectangle:\n",
    "    def __init__(self,L,l):\n",
    "        self.longeur=L\n",
    "        self.largeur=l\n",
    "    def mtd1(self):\n",
    "        p=(self.longeur+self.largeur)*2\n",
    "        return p\n",
    "    def mtd2(self):\n",
    "        a=self.longeur*self.largeur\n",
    "        return a\n",
    "    \n",
    "my_rectangle= Rectangle(4,3)\n",
    "x=my_rectangle.mtd1()\n",
    "y=my_rectangle.mtd2()\n",
    "print(x,y)\n",
    "    "
   ]
  },
  {
   "cell_type": "markdown",
   "id": "594306b0",
   "metadata": {},
   "source": [
    "3"
   ]
  },
  {
   "cell_type": "code",
   "execution_count": null,
   "id": "965fd610",
   "metadata": {},
   "outputs": [],
   "source": [
    "from math import pi\n",
    "from math import sqrt\n",
    "x=int(input(\"x du point a\"))\n",
    "y=int(input(\"y du point a\"))\n",
    "X=int(input(\"x du point o\"))\n",
    "Y=int(input(\"y du point o\"))\n",
    "tple_a=(x,y)\n",
    "tple_o=(X,Y)\n",
    "r=int(input(\"donner le rayon\"))\n",
    "class Circle:\n",
    "    def  __init__(self,o,r):\n",
    "        self.center=o\n",
    "        self.rayon=r\n",
    "    def CircleArea(self):\n",
    "        a=pi*(self.rayon*self.rayon)\n",
    "        return a\n",
    "    def Circleperimetre(self):\n",
    "        p=2*pi*self.rayon\n",
    "        return p\n",
    "    def blgtoC(self,a):\n",
    "        d=sqrt((x-X)**2+(y-Y)**2)\n",
    "        if r>=d:\n",
    "            return(\"a belongs to the circle\")\n",
    "        else:\n",
    "            return(\"a doesnt belong to the circle\")\n",
    "        \n",
    "    \n",
    "a=Circle(tple_o,r)\n",
    "A=a.CircleArea()\n",
    "B=a.Circleperimetre()\n",
    "C=a.blgtoC(tple_a)\n",
    "\n",
    "print(\"l'air est:\",round(A),\"le perimetre est:\",round (B),\"belong or not:\",C)\n"
   ]
  },
  {
   "cell_type": "markdown",
   "id": "1ae3a4e0",
   "metadata": {},
   "source": [
    "4"
   ]
  },
  {
   "cell_type": "code",
   "execution_count": null,
   "id": "a7d5efc3",
   "metadata": {},
   "outputs": [],
   "source": [
    "class Bank:\n",
    "    def __init__(self,t):\n",
    "        self.total=t\n",
    "    def deposit(self,val):\n",
    "        self.total+=val\n",
    "        return self.total\n",
    "    def withdraw(self,val):\n",
    "        if val>self.total:\n",
    "            print(\"impossible\")\n",
    "        else:\n",
    "            self.total-=val\n",
    "         \n",
    "        return self.total\n",
    "c=int(input(\"how much do you have in your account\"))\n",
    "a=int(input(\"how much do you deposit\"))\n",
    "b=int(input(\"how much do you withdraw\"))\n",
    "my_account=Bank(c)\n",
    "o=my_account. deposit(a)\n",
    "i=my_account.withdraw(b)\n",
    "print(\"you have after the depositing:\",o,\"your bank account have:\",i)"
   ]
  },
  {
   "cell_type": "code",
   "execution_count": null,
   "id": "6024af80",
   "metadata": {},
   "outputs": [],
   "source": []
  }
 ],
 "metadata": {
  "kernelspec": {
   "display_name": "Python 3",
   "language": "python",
   "name": "python3"
  },
  "language_info": {
   "codemirror_mode": {
    "name": "ipython",
    "version": 3
   },
   "file_extension": ".py",
   "mimetype": "text/x-python",
   "name": "python",
   "nbconvert_exporter": "python",
   "pygments_lexer": "ipython3",
   "version": "3.8.8"
  }
 },
 "nbformat": 4,
 "nbformat_minor": 5
}
