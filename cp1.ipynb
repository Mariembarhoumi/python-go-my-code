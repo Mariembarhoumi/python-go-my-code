{
 "cells": [
  {
   "cell_type": "markdown",
   "id": "f4b2b809",
   "metadata": {
    "scrolled": true
   },
   "source": [
    "QUESTION 1"
   ]
  },
  {
   "cell_type": "code",
   "execution_count": 9,
   "id": "3c50532c",
   "metadata": {},
   "outputs": [
    {
     "name": "stdout",
     "output_type": "stream",
     "text": [
      "write your name mariem\n",
      "write your first name barhoumi\n",
      "barhoumi mariem\n"
     ]
    }
   ],
   "source": [
    "str2=(input(\"write your name \"))\n",
    "str1=(input(\"write your first name \"))\n",
    "str3=\" \"\n",
    "print(str1 + str3 + str2)"
   ]
  },
  {
   "cell_type": "markdown",
   "id": "14e046e6",
   "metadata": {},
   "source": [
    "QUESTION 2"
   ]
  },
  {
   "cell_type": "code",
   "execution_count": 4,
   "id": "7383e216",
   "metadata": {},
   "outputs": [
    {
     "name": "stdout",
     "output_type": "stream",
     "text": [
      "enter a number: 5\n",
      "615\n"
     ]
    }
   ],
   "source": [
    "n=input(\"enter a number: \")\n",
    "x=n\n",
    "y=n+n\n",
    "z=n+n+n\n",
    "s=int(x)+int(y)+int(z)\n",
    "print(s)"
   ]
  },
  {
   "cell_type": "markdown",
   "id": "a5160289",
   "metadata": {},
   "source": [
    "QUESTION 3"
   ]
  },
  {
   "cell_type": "code",
   "execution_count": 69,
   "id": "df0b2390",
   "metadata": {},
   "outputs": [
    {
     "name": "stdout",
     "output_type": "stream",
     "text": [
      "enter a number: 20\n",
      "20 is even\n"
     ]
    }
   ],
   "source": [
    "n=int(input(\"enter a number: \"))\n",
    "if (n % 2) == 0:\n",
    "   print(n,\"is even\")\n",
    "else:\n",
    "   print(n,\"is odd\")\n",
    "\n",
    "\n",
    "\n"
   ]
  },
  {
   "cell_type": "markdown",
   "id": "5f4c31d2",
   "metadata": {},
   "source": [
    "QUESTION 4"
   ]
  },
  {
   "cell_type": "code",
   "execution_count": 8,
   "id": "7961f159",
   "metadata": {},
   "outputs": [
    {
     "name": "stdout",
     "output_type": "stream",
     "text": [
      "2002 2009 2016 2023 2037 2044 2051 2058 2072 2079 2086 2093 2107 2114 2121 2128 2142 2149 2156 2163 2177 2184 2191 2198 2212 2219 2226 2233 2247 2254 2261 2268 2282 2289 2296 2303 2317 2324 2331 2338 2352 2359 2366 2373 2387 2394 2401 2408 2422 2429 2436 2443 2457 2464 2471 2478 2492 2499 2506 2513 2527 2534 2541 2548 2562 2569 2576 2583 2597 2604 2611 2618 2632 2639 2646 2653 2667 2674 2681 2688 2702 2709 2716 2723 2737 2744 2751 2758 2772 2779 2786 2793 2807 2814 2821 2828 2842 2849 2856 2863 2877 2884 2891 2898 2912 2919 2926 2933 2947 2954 2961 2968 2982 2989 2996 3003 3017 3024 3031 3038 3052 3059 3066 3073 3087 3094 3101 3108 3122 3129 3136 3143 3157 3164 3171 3178 3192 3199 "
     ]
    }
   ],
   "source": [
    "for i in range(2000,3200):#begin\n",
    " if i%7==0 and i%5!=0 :\n",
    "   print(i,end=\" \")#end"
   ]
  },
  {
   "cell_type": "markdown",
   "id": "e91cd62e",
   "metadata": {},
   "source": [
    "QUESTION 5"
   ]
  },
  {
   "cell_type": "code",
   "execution_count": 76,
   "id": "4fddd9f9",
   "metadata": {},
   "outputs": [
    {
     "name": "stdout",
     "output_type": "stream",
     "text": [
      "choose a number8\n",
      "40320\n"
     ]
    }
   ],
   "source": [
    "n=int(input(\"choose a number \"))\n",
    "import math\n",
    "print(math.factorial(n))  \n"
   ]
  },
  {
   "cell_type": "raw",
   "id": "a31c54d0",
   "metadata": {},
   "source": [
    "QUESTION 6"
   ]
  },
  {
   "cell_type": "code",
   "execution_count": 12,
   "id": "e868d3bc",
   "metadata": {},
   "outputs": [
    {
     "name": "stdout",
     "output_type": "stream",
     "text": [
      "string= hello team\n",
      "hlota\n"
     ]
    }
   ],
   "source": [
    "result=input(\"string= \")\n",
    "def valeur(str):\n",
    "    result=\"\"\n",
    "    for i in range (len(str)):\n",
    "        if i%2==0:\n",
    "            result=result+str[i]\n",
    "    return result\n",
    "new_stri=valeur(result)\n",
    "print(new_stri)\n",
    "  \n"
   ]
  },
  {
   "cell_type": "markdown",
   "id": "2f288efb",
   "metadata": {},
   "source": [
    "QUESTION 7"
   ]
  },
  {
   "cell_type": "code",
   "execution_count": 3,
   "id": "76fbc4bb",
   "metadata": {},
   "outputs": [
    {
     "name": "stdout",
     "output_type": "stream",
     "text": [
      "Enter amount: 200\n",
      "Discount= 60.0\n"
     ]
    }
   ],
   "source": [
    "x = int(input(\"Enter amount: \"))\n",
    "\n",
    "if x>=500:\n",
    "   discount = (x*50)/100\n",
    "   print (\"Discount=\",discount)\n",
    "elif x<500:\n",
    "   discount = (x*30)/100\n",
    "   print (\"Discount=\",discount)\n",
    "elif x>=200:\n",
    "   discount = (x*30)/100 \n",
    "   print (\"Discount=\",discount)\n",
    "else:\n",
    "   discount = (x*10)/100\n",
    "   print (\"Discount=\",discount)"
   ]
  }
 ],
 "metadata": {
  "kernelspec": {
   "display_name": "Python 3",
   "language": "python",
   "name": "python3"
  },
  "language_info": {
   "codemirror_mode": {
    "name": "ipython",
    "version": 3
   },
   "file_extension": ".py",
   "mimetype": "text/x-python",
   "name": "python",
   "nbconvert_exporter": "python",
   "pygments_lexer": "ipython3",
   "version": "3.8.8"
  }
 },
 "nbformat": 4,
 "nbformat_minor": 5
}
